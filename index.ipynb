{
 "cells": [
  {
   "cell_type": "markdown",
   "metadata": {},
   "source": [
    "# Resampling Methods - Lab\n",
    "\n",
    "## Introduction\n",
    "\n",
    "Now that you have some preliminary background on bootstrapping, jackknife, and permutation tests, its time to practice those skills by coding them into functions. You'll then apply these tests to a hypothesis test and compare the results to a parametric t-test.\n",
    "\n",
    "## Objectives\n",
    "\n",
    "In this lab you will: \n",
    "\n",
    "* Create functions that perform resampling techniques and use them on datasets"
   ]
  },
  {
   "cell_type": "markdown",
   "metadata": {},
   "source": [
    "## Bootstrap sampling\n",
    "\n",
    "\n",
    "Bootstrap sampling works by combining two distinct samples into a universal set and generating random samples from this combined sample space in order to compare these random splits to the two original samples. The idea is to see if the difference between the two **original** samples is statistically significant. If similar differences can be observed through the random generation of samples, then the observed differences are not actually significant.\n",
    "\n",
    "\n",
    "Write a function to perform bootstrap sampling. The function should take in two samples A and B. The two samples need not be the same size. From this, create a universal sample by combining A and B. Then, create a resampled universal sample of the same size using random sampling with replacement. Finally, split this randomly generated universal set into two samples which are the same size as the original samples, A and B. The function should return these resampled samples.\n",
    "\n",
    "Example:\n",
    "\n",
    "```python\n",
    "\n",
    "A = [1,2,3]\n",
    "B = [2,2,5,6]\n",
    "\n",
    "Universal_Set = [1,2,2,2,3,5,6]\n",
    "Resampled_Universal_Set = [6, 2, 3, 2, 1, 1, 2] # Could be different (randomly generated with replacement)\n",
    "\n",
    "Resampled_A = [6,2,3]\n",
    "Resampled_B = [2,1,1,2]\n",
    "```"
   ]
  },
  {
   "cell_type": "code",
   "execution_count": 1,
   "metadata": {},
   "outputs": [],
   "source": [
    "import numpy as np\n",
    "import pandas as pd\n",
    "import random"
   ]
  },
  {
   "cell_type": "code",
   "execution_count": 28,
   "metadata": {},
   "outputs": [],
   "source": [
    "def bootstrap(A, B):\n",
    "    combined = A + B\n",
    "    resampled = np.random.choice(combined, size=len(combined), replace=True)\n",
    "    resampled_A = resampled[:len(A)]\n",
    "    resampled_B = resampled[len(A):]\n",
    "    \n",
    "    return resampled_A, resampled_B"
   ]
  },
  {
   "cell_type": "code",
   "execution_count": 29,
   "metadata": {
    "scrolled": true
   },
   "outputs": [
    {
     "name": "stdout",
     "output_type": "stream",
     "text": [
      "[6 1 2] [1 3 5 2]\n"
     ]
    }
   ],
   "source": [
    "A = [1,2,3]\n",
    "B = [2,2,5,6]\n",
    "r_A, r_B = bootstrap(A, B)\n",
    "print(r_A, r_B)"
   ]
  },
  {
   "cell_type": "markdown",
   "metadata": {},
   "source": [
    "## Jackknife \n",
    "\n",
    "Write a function that creates additional samples by removing one element at a time. The function should do this for each of the `n` items in the original sample, returning `n` samples, each with `n-1` members."
   ]
  },
  {
   "cell_type": "code",
   "execution_count": 4,
   "metadata": {},
   "outputs": [],
   "source": [
    "def jack1(data):\n",
    "    \"\"\"This function should take in a list of n observations and return n lists\n",
    "    each with one member (presumably the nth) removed.\"\"\"\n",
    "    n = len(data)\n",
    "    samples = []\n",
    "    for i in range(n):\n",
    "        new_list = data.copy()\n",
    "        new_list.pop(i)\n",
    "        samples.append(new_list)\n",
    "    \n",
    "    return samples"
   ]
  },
  {
   "cell_type": "code",
   "execution_count": 5,
   "metadata": {},
   "outputs": [
    {
     "data": {
      "text/plain": [
       "[[2, 2, 3, 8, 9],\n",
       " [1, 2, 3, 8, 9],\n",
       " [1, 2, 3, 8, 9],\n",
       " [1, 2, 2, 8, 9],\n",
       " [1, 2, 2, 3, 9],\n",
       " [1, 2, 2, 3, 8]]"
      ]
     },
     "execution_count": 5,
     "metadata": {},
     "output_type": "execute_result"
    }
   ],
   "source": [
    "test = [1,2,2,3,8,9]\n",
    "jack1(test)"
   ]
  },
  {
   "cell_type": "markdown",
   "metadata": {},
   "source": [
    "## Permutation testing\n",
    "\n",
    "Define a function that generates all possible, equally sized, two set splits of two sets A and B. Sets A and B need not be the same size, but all of the generated two set splits should be of equal size. For example, if we had a set with 5 members and a set with 7 members, the function would return all possible 5-7 ordered splits of the 12 items.\n",
    "\n",
    "> Note that these are actually combinations! However, as noted previously, permutation tests really investigate possible regroupings of the data observations, so calculating combinations is a more efficient approach!\n",
    "\n",
    "\n",
    "Here's a more in depth example:\n",
    "\n",
    "```python\n",
    "A = [1, 2, 2]\n",
    "B = [1, 3]\n",
    "combT(A, B) \n",
    "[([1,2,2], [1,3]),\n",
    " ([1,2,3], [1,2]),\n",
    " ([1,2,1], [2,3]),\n",
    " ([1,1,3], [2,2]),\n",
    " ([2,2,3], [1,1])]\n",
    "               \n",
    "```  \n",
    "\n",
    "These are all the possible 3-2 member splits of the 5 elements: 1, 1, 2, 2, 3. "
   ]
  },
  {
   "cell_type": "code",
   "execution_count": 6,
   "metadata": {},
   "outputs": [],
   "source": [
    "import itertools"
   ]
  },
  {
   "cell_type": "code",
   "execution_count": 7,
   "metadata": {},
   "outputs": [],
   "source": [
    "def combT(a,b):\n",
    "    universal_set = sorted(a + b)\n",
    "    combinations = set(itertools.combinations(universal_set, len(a)))\n",
    "    groupings = []\n",
    "    for combination in combinations:\n",
    "        temp_list = universal_set.copy()\n",
    "        for element in combination:\n",
    "            temp_list.remove(element)\n",
    "        groupings.append((list(combination), temp_list))\n",
    "    \n",
    "    return groupings"
   ]
  },
  {
   "cell_type": "code",
   "execution_count": 8,
   "metadata": {},
   "outputs": [
    {
     "data": {
      "text/plain": [
       "[([1, 1, 3], [2, 2]),\n",
       " ([1, 2, 2], [1, 3]),\n",
       " ([1, 2, 3], [1, 2]),\n",
       " ([1, 1, 2], [2, 3]),\n",
       " ([2, 2, 3], [1, 1])]"
      ]
     },
     "execution_count": 8,
     "metadata": {},
     "output_type": "execute_result"
    }
   ],
   "source": [
    "A = [1, 2, 2]\n",
    "B = [1, 3]\n",
    "combT(A,B)"
   ]
  },
  {
   "cell_type": "markdown",
   "metadata": {},
   "source": [
    "## Permutation testing in Practice\n",
    "Let's further investigate the scenario proposed in the previous lesson. Below are two samples A and B. The samples are mock data for the blood pressure of sample patients. The research study is looking to validate whether there is a statistical difference in the blood pressure of these two groups using a 5% significance level.  First, calculate the mean blood pressure of each of the two samples. Then, calculate the difference of these means. From there, use your `combT()` function, defined above, to generate all the possible combinations of the entire sample data into A-B splits of equivalent sizes as the original sets. For each of these combinations, calculate the mean blood pressure of the two groups and record the difference between these sample means. The full collection of the difference in means between these generated samples will serve as the denominator to calculate the p-value associated with the difference between the original sample means.\n",
    "\n",
    "For example, in our small handwritten example above:\n",
    "\n",
    "$\\mu_a = \\frac{1+2+2}{3} = \\frac{5}{3}$  \n",
    "and  \n",
    "$\\mu_b = \\frac{1+3}{2} = \\frac{4}{2} = 2$  \n",
    "\n",
    "Giving us\n",
    "\n",
    "$\\mu_a - \\mu_b = \\frac{5}{3} - 2 = \\frac{1}{2}$\n",
    "\n",
    "In comparison, for our various combinations we have:\n",
    "\n",
    "([1,2,2], [1,3]):  $\\mu_a - \\mu_b = \\frac{5}{3} - 2 = \\frac{1}{2}$  \n",
    "([1,2,3], [1,2]):  $\\mu_a - \\mu_b = 2 - \\frac{3}{2} = \\frac{1}{2}$  \n",
    "([1,2,1], [2,3]):  $\\mu_a - \\mu_b = \\frac{4}{3} - \\frac{5}{3} = -\\frac{1}{2}$  \n",
    "([1,1,3], [2,2]):  $\\mu_a - \\mu_b = \\frac{5}{3} - 2 = \\frac{1}{2}$  \n",
    "([2,2,3], [1,1]):  $\\mu_a - \\mu_b = \\frac{7}{3} - 1 = \\frac{4}{3}$  \n",
    "\n",
    "A standard hypothesis test for this scenario might be:\n",
    "\n",
    "$H_0: \\mu_a = \\mu_b$  \n",
    "$H_1: \\mu_a < \\mu_b$  \n",
    "  \n",
    "Thus comparing our sample difference to the differences of our possible combinations, we look at the number of experiments from our combinations space that were the same or greater than our sample statistic, divided by the total number of combinations. In this case, 4 out of 5 of the combination cases produced the same or greater differences in the two sample means. This value .8 is a strong indication that we cannot refute the null hypothesis for this instance."
   ]
  },
  {
   "cell_type": "code",
   "execution_count": 9,
   "metadata": {},
   "outputs": [],
   "source": [
    "a = [109.6927759 , 120.27296943, 103.54012038, 114.16555857,\n",
    "       122.93336175, 110.9271756 , 114.77443758, 116.34159338,\n",
    "       112.66413025, 118.30562665, 132.31196515, 117.99000948]\n",
    "b = [123.98967482, 141.11969004, 117.00293412, 121.6419775 ,\n",
    "       123.2703033 , 123.76944385, 105.95249634, 114.87114479,\n",
    "       130.6878082 , 140.60768727, 121.95433026, 123.11996767,\n",
    "       129.93260914, 121.01049611]"
   ]
  },
  {
   "cell_type": "code",
   "execution_count": 10,
   "metadata": {},
   "outputs": [],
   "source": [
    "# Your code here\n",
    "groupings = combT(a, b)\n",
    "# ⏰ Expect your code to take several minutes to run"
   ]
  },
  {
   "cell_type": "code",
   "execution_count": 17,
   "metadata": {},
   "outputs": [
    {
     "name": "stdout",
     "output_type": "stream",
     "text": [
      "Difference between original samples: 8.049348947857169\n"
     ]
    }
   ],
   "source": [
    "# Calculating the difference in sample means:\n",
    "diff = np.abs(np.mean(a)-np.mean(b))\n",
    "print(\"Difference between original samples:\", diff)"
   ]
  },
  {
   "cell_type": "code",
   "execution_count": 18,
   "metadata": {},
   "outputs": [],
   "source": [
    "differences = []\n",
    "for grouping in groupings:\n",
    "    mean1 = np.mean(grouping[0])\n",
    "    mean2 = np.mean(grouping[1])\n",
    "    difference = np.abs(mean1-mean2)\n",
    "    differences.append(difference)\n",
    "    \n",
    "difference_array = np.array(differences)"
   ]
  },
  {
   "cell_type": "code",
   "execution_count": 21,
   "metadata": {},
   "outputs": [
    {
     "name": "stdout",
     "output_type": "stream",
     "text": [
      "Number of combinations: 9657700\n"
     ]
    }
   ],
   "source": [
    "print(\"Number of combinations:\", len(differences))"
   ]
  },
  {
   "cell_type": "code",
   "execution_count": 19,
   "metadata": {},
   "outputs": [
    {
     "name": "stdout",
     "output_type": "stream",
     "text": [
      "p-value from Permutation test: 0.022695465794133177\n"
     ]
    }
   ],
   "source": [
    "p_val = sum(difference_array > diff) / len(differences)\n",
    "print(\"p-value from Permutation test:\", p_val)"
   ]
  },
  {
   "cell_type": "code",
   "execution_count": null,
   "metadata": {},
   "outputs": [],
   "source": [
    "# The p-value is < 0.05, so we can reject the null hypothesis with 95% confidence, and say that\n",
    "# the two samples are taken from different populations."
   ]
  },
  {
   "cell_type": "markdown",
   "metadata": {},
   "source": [
    "## T-test revisited\n",
    "\n",
    "The parametric statistical test equivalent to our permutation test above would be a t-test of the two groups. Perform a t-test on the same data above in order to calculate the p-value. How does this compare to the above results?"
   ]
  },
  {
   "cell_type": "code",
   "execution_count": 22,
   "metadata": {},
   "outputs": [],
   "source": [
    "import scipy.stats as stats"
   ]
  },
  {
   "cell_type": "code",
   "execution_count": 23,
   "metadata": {},
   "outputs": [
    {
     "name": "stdout",
     "output_type": "stream",
     "text": [
      "-2.475967750872386 0.020794009741792126\n"
     ]
    }
   ],
   "source": [
    "# Your code here\n",
    "statistic, p_val = stats.ttest_ind(a, b, equal_var=False)\n",
    "print(statistic, p_val)"
   ]
  },
  {
   "cell_type": "code",
   "execution_count": 24,
   "metadata": {},
   "outputs": [],
   "source": [
    "# The result from the 2-sample t-test is very similar to that above, with a p-val of ~2%, and\n",
    "# thus a rejection of the null hypothesis that the two samples are from identical populations"
   ]
  },
  {
   "cell_type": "markdown",
   "metadata": {},
   "source": [
    "## Bootstrap applied\n",
    "\n",
    "Use your code above to apply the bootstrap technique to this hypothesis testing scenario. Here's a pseudo-code outline for how to do this:\n",
    "\n",
    "1. Compute the difference between the sample means of A and B\n",
    "2. Initialize a counter for the number of times the difference of the means of resampled samples is greater then or equal to the difference of the means of the original samples\n",
    "3. Repeat the following process 10,000 times:\n",
    "    1. Use the bootstrap sampling function you used above to create new resampled versions of A and B \n",
    "    2. Compute the difference between the means of these resampled samples \n",
    "    3. If the difference between the means of the resampled samples is greater then or equal to the original difference, add 1 the counter you created in step 2\n",
    "4. Compute the ratio between the counter and the number of simulations (10,000) that you performed\n",
    "    > This ratio is the percentage of simulations in which the difference of sample means was greater than the original difference"
   ]
  },
  {
   "cell_type": "code",
   "execution_count": 30,
   "metadata": {},
   "outputs": [
    {
     "name": "stdout",
     "output_type": "stream",
     "text": [
      "p-value calculated through Bootstrapping: 0.0239\n"
     ]
    }
   ],
   "source": [
    "# Your code here\n",
    "bigger_diffs = 0\n",
    "num_trials = 10000\n",
    "\n",
    "for i in range(num_trials):\n",
    "    boot_A, boot_B = bootstrap(a,b)\n",
    "    mean_A = np.mean(boot_A)\n",
    "    mean_B = np.mean(boot_B)\n",
    "    trial_diff = np.abs(mean_A-mean_B)\n",
    "    \n",
    "    if trial_diff >= diff:\n",
    "        bigger_diffs += 1\n",
    "        \n",
    "p_val = bigger_diffs / num_trials\n",
    "print(\"p-value calculated through Bootstrapping:\", p_val)"
   ]
  },
  {
   "cell_type": "code",
   "execution_count": null,
   "metadata": {},
   "outputs": [],
   "source": [
    "# The Bootstrapping method has produced another similar p-value just over 2%, resulting in\n",
    "# another case where the null hypothesis can be rejected."
   ]
  },
  {
   "cell_type": "markdown",
   "metadata": {},
   "source": [
    "## Summary\n",
    "\n",
    "Well done! In this lab, you practice coding modern statistical resampling techniques of the 20th century! You also started to compare these non-parametric methods to other parametric methods such as the t-test that we previously discussed."
   ]
  }
 ],
 "metadata": {
  "kernelspec": {
   "display_name": "Python 3",
   "language": "python",
   "name": "python3"
  },
  "language_info": {
   "codemirror_mode": {
    "name": "ipython",
    "version": 3
   },
   "file_extension": ".py",
   "mimetype": "text/x-python",
   "name": "python",
   "nbconvert_exporter": "python",
   "pygments_lexer": "ipython3",
   "version": "3.6.4"
  },
  "toc": {
   "base_numbering": 1,
   "nav_menu": {},
   "number_sections": true,
   "sideBar": true,
   "skip_h1_title": false,
   "title_cell": "Table of Contents",
   "title_sidebar": "Contents",
   "toc_cell": false,
   "toc_position": {},
   "toc_section_display": true,
   "toc_window_display": false
  }
 },
 "nbformat": 4,
 "nbformat_minor": 2
}
